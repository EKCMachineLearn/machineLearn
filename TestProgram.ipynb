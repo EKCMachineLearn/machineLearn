{
  "nbformat": 4,
  "nbformat_minor": 0,
  "metadata": {
    "colab": {
      "name": "EKCApp.ipynb",
      "provenance": [],
      "collapsed_sections": [],
      "include_colab_link": true
    },
    "kernelspec": {
      "name": "python3",
      "display_name": "Python 3"
    },
    "language_info": {
      "name": "python"
    }
  },
  "cells": [
    {
      "cell_type": "markdown",
      "metadata": {
        "id": "view-in-github",
        "colab_type": "text"
      },
      "source": [
        "<a href=\"https://colab.research.google.com/github/EKCMachineLearn/machineLearn/blob/main/TestProgram.ipynb\" target=\"_parent\"><img src=\"https://colab.research.google.com/assets/colab-badge.svg\" alt=\"Open In Colab\"/></a>"
      ]
    },
    {
      "cell_type": "code",
      "metadata": {
        "id": "PKUMuh17lMn4"
      },
      "source": [
        "from sklearn.model_selection import train_test_split\n",
        "from sklearn.preprocessing import StandardScaler, OneHotEncoder\n",
        "from sklearn.impute import SimpleImputer\n",
        "from sklearn.model_selection import train_test_split\n",
        "from sklearn.pipeline import make_pipeline\n",
        "from sklearn.compose import make_column_transformer\n",
        "import numpy as np\n",
        "import pandas as pd\n",
        "import gc\n",
        "from IPython.display import clear_output\n",
        "!pip3 install tensorflow 2.3.0\n",
        "!pip3 install autokeras\n",
        "clear_output()\n",
        "import tensorflow as tf\n",
        "from tensorflow import keras\n",
        "from tensorflow.keras import layers\n",
        "from tensorflow.keras import callbacks\n",
        "import seaborn as sns\n",
        "sns.set_style('darkgrid')\n",
        "import matplotlib.pyplot as plt\n",
        "import autokeras as ak\n",
        "%matplotlib inline"
      ],
      "execution_count": 126,
      "outputs": []
    },
    {
      "cell_type": "markdown",
      "metadata": {
        "id": "yF2_gboLSUoJ"
      },
      "source": [
        "#Paths and Global Variables"
      ]
    },
    {
      "cell_type": "code",
      "metadata": {
        "id": "k0iwZivZlUoe"
      },
      "source": [
        "Train_P = \"/content/sample_data/exampleCSV.csv\"\n",
        "Test_P = \"/content/sample_data/example(2)CSV.csv\"\n",
        "Sub_P = \"submission_path.csv\"\n",
        "Sub_Path = \"submission.csv\"\n",
        "\n",
        "ID = \"BidPrice\"\n",
        "TARGET = \"Wins\"\n",
        "TEST_SIZE = 0.2\n",
        "RANDOM_SEED = 20\n",
        "MAX_TRIAL = 4 # for simple test \n",
        "EPOCHS = 5  # for simple test \n",
        "VALIDATION_SPLIT = 0.15\n"
      ],
      "execution_count": 127,
      "outputs": []
    },
    {
      "cell_type": "markdown",
      "metadata": {
        "id": "qGlrRghee4Kp"
      },
      "source": [
        "#Check for NULL plus Train and Test functions"
      ]
    },
    {
      "cell_type": "code",
      "metadata": {
        "id": "XDfrohkQTFcM",
        "outputId": "e934ecd4-3a0e-409c-c544-a6cc820bf156",
        "colab": {
          "base_uri": "https://localhost:8080/"
        }
      },
      "source": [
        "#check for NULL Values plus the train and test Functions\n",
        "train = pd.read_csv(Train_P) #read csv files\n",
        "test = pd.read_csv(Test_P) #read csv files\n",
        "train.columns = train.columns.str.replace(' ', '')\n",
        "test.columns = test.columns.str.replace(' ', '')\n",
        "#drop_elements = [] #drop useless atributes here\n",
        "#train = train.drop(drop_elements, axis = 1)\n",
        "#test = test.drop(drop_elements, axis = 1)\n",
        "\n",
        "def checkNull_fillData(df):\n",
        "    for col in df.columns:\n",
        "        if len(df.loc[df[col].isnull() == True]) != 0:\n",
        "            if df[col].dtype == \"float64\" or df[col].dtype == \"int64\":\n",
        "                df.loc[df[col].isnull() == True,col] = df[col].mean()\n",
        "            else:\n",
        "                df.loc[df[col].isnull() == True,col] = df[col].mode()[0]\n",
        "\n",
        "checkNull_fillData(train)\n",
        "checkNull_fillData(test)\n",
        "\n",
        "string_list = [] \n",
        "number_list = []\n",
        "for colname, colvalue in train.items():\n",
        "    if type(colvalue[1]) == str:\n",
        "        string_list.append(colname)\n",
        "    else:\n",
        "        number_list.append(colname)     \n",
        "\n",
        "print(string_list)\n",
        "print(number_list)\n",
        "train = pd.get_dummies(train, columns=string_list)\n",
        "#print(train)\n",
        "test = pd.get_dummies(test, columns=string_list)\n",
        "#print(test)\n",
        "\n"
      ],
      "execution_count": 128,
      "outputs": [
        {
          "output_type": "stream",
          "name": "stdout",
          "text": [
            "['BidDates', 'Location']\n",
            "['BidPrices', 'Wins', 'Amount']\n"
          ]
        }
      ]
    },
    {
      "cell_type": "markdown",
      "metadata": {
        "id": "TXtQFALoe95F"
      },
      "source": [
        "#Scale Data"
      ]
    },
    {
      "cell_type": "code",
      "metadata": {
        "colab": {
          "base_uri": "https://localhost:8080/"
        },
        "id": "yqbFFzoGUdbf",
        "outputId": "580a9d23-15c4-489c-b8a8-a45446c6a49e"
      },
      "source": [
        "y = train[TARGET]\n",
        "X = train.drop([TARGET],axis=1)\n",
        "X_test = test\n",
        "gc.collect()\n",
        "print(X_test.columns)\n",
        "print(X.columns)\n"
      ],
      "execution_count": 129,
      "outputs": [
        {
          "output_type": "stream",
          "name": "stdout",
          "text": [
            "Index(['BidPrices', 'Amount', 'BidDates_APRIL', 'BidDates_AUGUST',\n",
            "       'BidDates_DECEMBER', 'BidDates_FEBURARY', 'BidDates_JANURARY',\n",
            "       'BidDates_JULY', 'BidDates_JUNE', 'BidDates_MARCH', 'BidDates_NOVEMBER',\n",
            "       'BidDates_SEPTEMBER', 'Location_BAKERSFIELD', 'Location_BERKLEY',\n",
            "       'Location_ELK GROVE', 'Location_FRESNO', 'Location_LOS ANGELES',\n",
            "       'Location_MADERA', 'Location_MERCED', 'Location_POMONA',\n",
            "       'Location_SAN FRANCISCO', 'Location_SAN JOSE',\n",
            "       'Location_SAN LUIS OBISBO', 'Location_TURLOCK', 'Location_VISALIA'],\n",
            "      dtype='object')\n",
            "Index(['BidPrices', 'Amount', 'BidDates_APRIL', 'BidDates_AUGUST',\n",
            "       'BidDates_DECEMBER', 'BidDates_FEBURARY', 'BidDates_JANURARY',\n",
            "       'BidDates_JULY', 'BidDates_JUNE', 'BidDates_MARCH', 'BidDates_NOVEMBER',\n",
            "       'BidDates_SEPTEMBER', 'Location_BAKERSFIELD', 'Location_BERKLEY',\n",
            "       'Location_ELK GROVE', 'Location_FRESNO', 'Location_LOS ANGELES',\n",
            "       'Location_MADERA', 'Location_MERCED', 'Location_POMONA',\n",
            "       'Location_SAN FRANCISCO', 'Location_SAN JOSE',\n",
            "       'Location_SAN LUIS OBISBO', 'Location_TURLOCK', 'Location_VISALIA'],\n",
            "      dtype='object')\n"
          ]
        }
      ]
    },
    {
      "cell_type": "markdown",
      "metadata": {
        "id": "-lBdId9rfAcC"
      },
      "source": [
        "#Spliting Data into training set and a validation set"
      ]
    },
    {
      "cell_type": "code",
      "metadata": {
        "colab": {
          "base_uri": "https://localhost:8080/"
        },
        "id": "54HGYqKPWB5c",
        "outputId": "c5b78475-ccbf-48d8-b6ae-2b4732cd627d"
      },
      "source": [
        "total = pd.concat([X,X_test],axis=0)\n",
        "trans = StandardScaler()\n",
        "trans.fit(total)\n",
        "X= trans.transform(X)\n",
        "X_test = trans.transform(X_test)\n",
        "\n",
        "gc.collect()"
      ],
      "execution_count": 130,
      "outputs": [
        {
          "output_type": "execute_result",
          "data": {
            "text/plain": [
              "50"
            ]
          },
          "metadata": {},
          "execution_count": 130
        }
      ]
    },
    {
      "cell_type": "markdown",
      "metadata": {
        "id": "TZpBnSLMfKOJ"
      },
      "source": [
        "#Using Keras Library to not only build the best model but search for it as well"
      ]
    },
    {
      "cell_type": "code",
      "metadata": {
        "colab": {
          "base_uri": "https://localhost:8080/",
          "height": 1000
        },
        "id": "jryxb2G8WhRQ",
        "outputId": "039aa41c-0963-49d2-cf43-dce1298483a2"
      },
      "source": [
        "X_train,X_val,y_train,y_val=train_test_split(X,y,test_size=TEST_SIZE,random_state=RANDOM_SEED)\n",
        "\n",
        "clf = ak.StructuredDataClassifier(max_trials=MAX_TRIAL,seed=RANDOM_SEED)\n",
        "\n",
        "print(X_train)\n",
        "print(y_train)\n",
        "\n",
        "clf.fit(X_train, y_train, epochs=EPOCHS, validation_split=VALIDATION_SPLIT)"
      ],
      "execution_count": 131,
      "outputs": [
        {
          "output_type": "stream",
          "name": "stdout",
          "text": [
            "[[ 0.17539287  1.01418456 -0.25264558 -0.20412415  1.12815215 -0.20412415\n",
            "  -0.25264558 -0.33333333 -0.25264558 -0.20412415 -0.25264558 -0.33333333\n",
            "  -0.25264558 -0.25264558  3.95811403 -0.33333333 -0.36927447 -0.36927447\n",
            "  -0.25264558 -0.29488391 -0.20412415 -0.25264558 -0.29488391 -0.29488391\n",
            "  -0.29488391]\n",
            " [-1.04261315 -0.85241279 -0.25264558 -0.20412415  1.12815215 -0.20412415\n",
            "  -0.25264558 -0.33333333 -0.25264558 -0.20412415 -0.25264558 -0.33333333\n",
            "  -0.25264558 -0.25264558 -0.25264558 -0.33333333 -0.36927447 -0.36927447\n",
            "  -0.25264558 -0.29488391  4.89897949 -0.25264558 -0.29488391 -0.29488391\n",
            "  -0.29488391]\n",
            " [-0.31180954  0.23643566 -0.25264558 -0.20412415  1.12815215 -0.20412415\n",
            "  -0.25264558 -0.33333333 -0.25264558 -0.20412415 -0.25264558 -0.33333333\n",
            "  -0.25264558 -0.25264558 -0.25264558  3.         -0.36927447 -0.36927447\n",
            "  -0.25264558 -0.29488391 -0.20412415 -0.25264558 -0.29488391 -0.29488391\n",
            "  -0.29488391]\n",
            " [ 0.41899407  0.54753522 -0.25264558 -0.20412415  1.12815215 -0.20412415\n",
            "  -0.25264558 -0.33333333 -0.25264558 -0.20412415 -0.25264558 -0.33333333\n",
            "  -0.25264558 -0.25264558 -0.25264558 -0.33333333 -0.36927447 -0.36927447\n",
            "  -0.25264558 -0.29488391 -0.20412415 -0.25264558 -0.29488391  3.39116499\n",
            "  -0.29488391]\n",
            " [ 0.29719347  0.85863478 -0.25264558 -0.20412415  1.12815215 -0.20412415\n",
            "  -0.25264558 -0.33333333 -0.25264558 -0.20412415 -0.25264558 -0.33333333\n",
            "  -0.25264558 -0.25264558 -0.25264558 -0.33333333  2.7080128  -0.36927447\n",
            "  -0.25264558 -0.29488391 -0.20412415 -0.25264558 -0.29488391 -0.29488391\n",
            "  -0.29488391]\n",
            " [ 0.05359226 -0.85241279 -0.25264558 -0.20412415 -0.88640526 -0.20412415\n",
            "   3.95811403 -0.33333333 -0.25264558 -0.20412415 -0.25264558 -0.33333333\n",
            "  -0.25264558 -0.25264558 -0.25264558 -0.33333333  2.7080128  -0.36927447\n",
            "  -0.25264558 -0.29488391 -0.20412415 -0.25264558 -0.29488391 -0.29488391\n",
            "  -0.29488391]\n",
            " [-0.79901195 -0.54131323 -0.25264558 -0.20412415  1.12815215 -0.20412415\n",
            "  -0.25264558 -0.33333333 -0.25264558 -0.20412415 -0.25264558 -0.33333333\n",
            "  -0.25264558 -0.25264558 -0.25264558 -0.33333333 -0.36927447 -0.36927447\n",
            "  -0.25264558 -0.29488391 -0.20412415 -0.25264558 -0.29488391  3.39116499\n",
            "  -0.29488391]\n",
            " [-0.31180954 -0.23021367 -0.25264558 -0.20412415 -0.88640526 -0.20412415\n",
            "  -0.25264558 -0.33333333 -0.25264558  4.89897949 -0.25264558 -0.33333333\n",
            "  -0.25264558 -0.25264558 -0.25264558 -0.33333333 -0.36927447  2.7080128\n",
            "  -0.25264558 -0.29488391 -0.20412415 -0.25264558 -0.29488391 -0.29488391\n",
            "  -0.29488391]\n",
            " [ 0.41899407  0.54753522 -0.25264558 -0.20412415  1.12815215 -0.20412415\n",
            "  -0.25264558 -0.33333333 -0.25264558 -0.20412415 -0.25264558 -0.33333333\n",
            "  -0.25264558 -0.25264558 -0.25264558 -0.33333333 -0.36927447 -0.36927447\n",
            "  -0.25264558 -0.29488391 -0.20412415 -0.25264558 -0.29488391 -0.29488391\n",
            "   3.39116499]\n",
            " [-0.79901195 -1.00796257 -0.25264558 -0.20412415  1.12815215 -0.20412415\n",
            "  -0.25264558 -0.33333333 -0.25264558 -0.20412415 -0.25264558 -0.33333333\n",
            "  -0.25264558 -0.25264558 -0.25264558 -0.33333333  2.7080128  -0.36927447\n",
            "  -0.25264558 -0.29488391 -0.20412415 -0.25264558 -0.29488391 -0.29488391\n",
            "  -0.29488391]\n",
            " [-0.55541074 -0.38576345 -0.25264558 -0.20412415  1.12815215 -0.20412415\n",
            "  -0.25264558 -0.33333333 -0.25264558 -0.20412415 -0.25264558 -0.33333333\n",
            "  -0.25264558 -0.25264558 -0.25264558 -0.33333333  2.7080128  -0.36927447\n",
            "  -0.25264558 -0.29488391 -0.20412415 -0.25264558 -0.29488391 -0.29488391\n",
            "  -0.29488391]\n",
            " [ 0.41899407  0.23643566 -0.25264558 -0.20412415 -0.88640526 -0.20412415\n",
            "  -0.25264558 -0.33333333 -0.25264558 -0.20412415  3.95811403 -0.33333333\n",
            "   3.95811403 -0.25264558 -0.25264558 -0.33333333 -0.36927447 -0.36927447\n",
            "  -0.25264558 -0.29488391 -0.20412415 -0.25264558 -0.29488391 -0.29488391\n",
            "  -0.29488391]\n",
            " [ 2.6114049   2.41413257 -0.25264558 -0.20412415 -0.88640526 -0.20412415\n",
            "  -0.25264558 -0.33333333 -0.25264558 -0.20412415  3.95811403 -0.33333333\n",
            "  -0.25264558 -0.25264558 -0.25264558 -0.33333333 -0.36927447  2.7080128\n",
            "  -0.25264558 -0.29488391 -0.20412415 -0.25264558 -0.29488391 -0.29488391\n",
            "  -0.29488391]\n",
            " [-0.06820834  0.39198544 -0.25264558 -0.20412415  1.12815215 -0.20412415\n",
            "  -0.25264558 -0.33333333 -0.25264558 -0.20412415 -0.25264558 -0.33333333\n",
            "  -0.25264558 -0.25264558 -0.25264558 -0.33333333 -0.36927447  2.7080128\n",
            "  -0.25264558 -0.29488391 -0.20412415 -0.25264558 -0.29488391 -0.29488391\n",
            "  -0.29488391]\n",
            " [ 0.17539287  0.23643566 -0.25264558 -0.20412415 -0.88640526 -0.20412415\n",
            "  -0.25264558 -0.33333333  3.95811403 -0.20412415 -0.25264558 -0.33333333\n",
            "  -0.25264558  3.95811403 -0.25264558 -0.33333333 -0.36927447 -0.36927447\n",
            "  -0.25264558 -0.29488391 -0.20412415 -0.25264558 -0.29488391 -0.29488391\n",
            "  -0.29488391]\n",
            " [-0.31180954 -0.38576345 -0.25264558 -0.20412415 -0.88640526 -0.20412415\n",
            "  -0.25264558 -0.33333333 -0.25264558 -0.20412415 -0.25264558  3.\n",
            "  -0.25264558 -0.25264558  3.95811403 -0.33333333 -0.36927447 -0.36927447\n",
            "  -0.25264558 -0.29488391 -0.20412415 -0.25264558 -0.29488391 -0.29488391\n",
            "  -0.29488391]\n",
            " [-0.06820834 -0.07466389  3.95811403 -0.20412415 -0.88640526 -0.20412415\n",
            "  -0.25264558 -0.33333333 -0.25264558 -0.20412415 -0.25264558 -0.33333333\n",
            "  -0.25264558 -0.25264558 -0.25264558 -0.33333333  2.7080128  -0.36927447\n",
            "  -0.25264558 -0.29488391 -0.20412415 -0.25264558 -0.29488391 -0.29488391\n",
            "  -0.29488391]\n",
            " [-0.55541074 -0.54131323 -0.25264558 -0.20412415  1.12815215 -0.20412415\n",
            "  -0.25264558 -0.33333333 -0.25264558 -0.20412415 -0.25264558 -0.33333333\n",
            "  -0.25264558 -0.25264558 -0.25264558  3.         -0.36927447 -0.36927447\n",
            "  -0.25264558 -0.29488391 -0.20412415 -0.25264558 -0.29488391 -0.29488391\n",
            "  -0.29488391]\n",
            " [ 4.07301212  3.65853081 -0.25264558 -0.20412415  1.12815215 -0.20412415\n",
            "  -0.25264558 -0.33333333 -0.25264558 -0.20412415 -0.25264558 -0.33333333\n",
            "  -0.25264558 -0.25264558 -0.25264558 -0.33333333 -0.36927447 -0.36927447\n",
            "  -0.25264558 -0.29488391 -0.20412415 -0.25264558 -0.29488391 -0.29488391\n",
            "   3.39116499]\n",
            " [ 1.88060129  1.4808339  -0.25264558  4.89897949 -0.88640526 -0.20412415\n",
            "  -0.25264558 -0.33333333 -0.25264558 -0.20412415 -0.25264558 -0.33333333\n",
            "  -0.25264558 -0.25264558 -0.25264558 -0.33333333 -0.36927447 -0.36927447\n",
            "   3.95811403 -0.29488391 -0.20412415 -0.25264558 -0.29488391 -0.29488391\n",
            "  -0.29488391]\n",
            " [ 0.41899407  1.16973434 -0.25264558 -0.20412415  1.12815215 -0.20412415\n",
            "  -0.25264558 -0.33333333 -0.25264558 -0.20412415 -0.25264558 -0.33333333\n",
            "  -0.25264558  3.95811403 -0.25264558 -0.33333333 -0.36927447 -0.36927447\n",
            "  -0.25264558 -0.29488391 -0.20412415 -0.25264558 -0.29488391 -0.29488391\n",
            "  -0.29488391]\n",
            " [-1.28621435 -1.47461191 -0.25264558 -0.20412415  1.12815215 -0.20412415\n",
            "  -0.25264558 -0.33333333 -0.25264558 -0.20412415 -0.25264558 -0.33333333\n",
            "  -0.25264558 -0.25264558 -0.25264558 -0.33333333 -0.36927447 -0.36927447\n",
            "  -0.25264558 -0.29488391 -0.20412415  3.95811403 -0.29488391 -0.29488391\n",
            "  -0.29488391]\n",
            " [-0.06820834 -0.07466389 -0.25264558 -0.20412415  1.12815215 -0.20412415\n",
            "  -0.25264558 -0.33333333 -0.25264558 -0.20412415 -0.25264558 -0.33333333\n",
            "  -0.25264558 -0.25264558 -0.25264558 -0.33333333 -0.36927447 -0.36927447\n",
            "  -0.25264558  3.39116499 -0.20412415 -0.25264558 -0.29488391 -0.29488391\n",
            "  -0.29488391]\n",
            " [-1.04261315 -0.85241279 -0.25264558 -0.20412415  1.12815215 -0.20412415\n",
            "  -0.25264558 -0.33333333 -0.25264558 -0.20412415 -0.25264558 -0.33333333\n",
            "   3.95811403 -0.25264558 -0.25264558 -0.33333333 -0.36927447 -0.36927447\n",
            "  -0.25264558 -0.29488391 -0.20412415 -0.25264558 -0.29488391 -0.29488391\n",
            "  -0.29488391]\n",
            " [-0.19000894 -0.38576345 -0.25264558 -0.20412415 -0.88640526 -0.20412415\n",
            "   3.95811403 -0.33333333 -0.25264558 -0.20412415 -0.25264558 -0.33333333\n",
            "  -0.25264558 -0.25264558 -0.25264558 -0.33333333 -0.36927447 -0.36927447\n",
            "  -0.25264558 -0.29488391 -0.20412415 -0.25264558  3.39116499 -0.29488391\n",
            "  -0.29488391]\n",
            " [-1.65161616 -1.31906213 -0.25264558 -0.20412415  1.12815215 -0.20412415\n",
            "  -0.25264558 -0.33333333 -0.25264558 -0.20412415 -0.25264558 -0.33333333\n",
            "  -0.25264558 -0.25264558 -0.25264558 -0.33333333 -0.36927447 -0.36927447\n",
            "  -0.25264558 -0.29488391 -0.20412415  3.95811403 -0.29488391 -0.29488391\n",
            "  -0.29488391]]\n",
            "29    1\n",
            "3     1\n",
            "31    0\n",
            "17    1\n",
            "23    1\n",
            "14    0\n",
            "24    0\n",
            "5     1\n",
            "30    1\n",
            "27    0\n",
            "18    1\n",
            "6     0\n",
            "16    1\n",
            "19    0\n",
            "8     1\n",
            "0     1\n",
            "2     1\n",
            "7     1\n",
            "22    0\n",
            "11    0\n",
            "20    0\n",
            "9     1\n",
            "32    1\n",
            "28    1\n",
            "15    1\n",
            "26    0\n",
            "Name: Wins, dtype: int64\n"
          ]
        },
        {
          "output_type": "error",
          "ename": "ValueError",
          "evalue": "ignored",
          "traceback": [
            "\u001b[0;31m---------------------------------------------------------------------------\u001b[0m",
            "\u001b[0;31mValueError\u001b[0m                                Traceback (most recent call last)",
            "\u001b[0;32m<ipython-input-131-6d0a6e21e253>\u001b[0m in \u001b[0;36m<module>\u001b[0;34m()\u001b[0m\n\u001b[1;32m      6\u001b[0m \u001b[0mprint\u001b[0m\u001b[0;34m(\u001b[0m\u001b[0my_train\u001b[0m\u001b[0;34m)\u001b[0m\u001b[0;34m\u001b[0m\u001b[0;34m\u001b[0m\u001b[0m\n\u001b[1;32m      7\u001b[0m \u001b[0;34m\u001b[0m\u001b[0m\n\u001b[0;32m----> 8\u001b[0;31m \u001b[0mclf\u001b[0m\u001b[0;34m.\u001b[0m\u001b[0mfit\u001b[0m\u001b[0;34m(\u001b[0m\u001b[0mX_train\u001b[0m\u001b[0;34m,\u001b[0m \u001b[0my_train\u001b[0m\u001b[0;34m,\u001b[0m \u001b[0mepochs\u001b[0m\u001b[0;34m=\u001b[0m\u001b[0mEPOCHS\u001b[0m\u001b[0;34m,\u001b[0m \u001b[0mvalidation_split\u001b[0m\u001b[0;34m=\u001b[0m\u001b[0mVALIDATION_SPLIT\u001b[0m\u001b[0;34m)\u001b[0m\u001b[0;34m\u001b[0m\u001b[0;34m\u001b[0m\u001b[0m\n\u001b[0m",
            "\u001b[0;32m/usr/local/lib/python3.7/dist-packages/autokeras/tasks/structured_data.py\u001b[0m in \u001b[0;36mfit\u001b[0;34m(self, x, y, epochs, callbacks, validation_split, validation_data, **kwargs)\u001b[0m\n\u001b[1;32m    331\u001b[0m             \u001b[0mvalidation_split\u001b[0m\u001b[0;34m=\u001b[0m\u001b[0mvalidation_split\u001b[0m\u001b[0;34m,\u001b[0m\u001b[0;34m\u001b[0m\u001b[0;34m\u001b[0m\u001b[0m\n\u001b[1;32m    332\u001b[0m             \u001b[0mvalidation_data\u001b[0m\u001b[0;34m=\u001b[0m\u001b[0mvalidation_data\u001b[0m\u001b[0;34m,\u001b[0m\u001b[0;34m\u001b[0m\u001b[0;34m\u001b[0m\u001b[0m\n\u001b[0;32m--> 333\u001b[0;31m             \u001b[0;34m**\u001b[0m\u001b[0mkwargs\u001b[0m\u001b[0;34m\u001b[0m\u001b[0;34m\u001b[0m\u001b[0m\n\u001b[0m\u001b[1;32m    334\u001b[0m         )\n\u001b[1;32m    335\u001b[0m         \u001b[0;32mreturn\u001b[0m \u001b[0mhistory\u001b[0m\u001b[0;34m\u001b[0m\u001b[0;34m\u001b[0m\u001b[0m\n",
            "\u001b[0;32m/usr/local/lib/python3.7/dist-packages/autokeras/tasks/structured_data.py\u001b[0m in \u001b[0;36mfit\u001b[0;34m(self, x, y, epochs, callbacks, validation_split, validation_data, **kwargs)\u001b[0m\n\u001b[1;32m    144\u001b[0m             \u001b[0mvalidation_split\u001b[0m\u001b[0;34m=\u001b[0m\u001b[0mvalidation_split\u001b[0m\u001b[0;34m,\u001b[0m\u001b[0;34m\u001b[0m\u001b[0;34m\u001b[0m\u001b[0m\n\u001b[1;32m    145\u001b[0m             \u001b[0mvalidation_data\u001b[0m\u001b[0;34m=\u001b[0m\u001b[0mvalidation_data\u001b[0m\u001b[0;34m,\u001b[0m\u001b[0;34m\u001b[0m\u001b[0;34m\u001b[0m\u001b[0m\n\u001b[0;32m--> 146\u001b[0;31m             \u001b[0;34m**\u001b[0m\u001b[0mkwargs\u001b[0m\u001b[0;34m\u001b[0m\u001b[0;34m\u001b[0m\u001b[0m\n\u001b[0m\u001b[1;32m    147\u001b[0m         )\n\u001b[1;32m    148\u001b[0m         \u001b[0;32mreturn\u001b[0m \u001b[0mhistory\u001b[0m\u001b[0;34m\u001b[0m\u001b[0;34m\u001b[0m\u001b[0m\n",
            "\u001b[0;32m/usr/local/lib/python3.7/dist-packages/autokeras/auto_model.py\u001b[0m in \u001b[0;36mfit\u001b[0;34m(self, x, y, batch_size, epochs, callbacks, validation_split, validation_data, verbose, **kwargs)\u001b[0m\n\u001b[1;32m    287\u001b[0m         \u001b[0;32mif\u001b[0m \u001b[0mvalidation_data\u001b[0m \u001b[0;32mis\u001b[0m \u001b[0;32mNone\u001b[0m \u001b[0;32mand\u001b[0m \u001b[0mvalidation_split\u001b[0m\u001b[0;34m:\u001b[0m\u001b[0;34m\u001b[0m\u001b[0;34m\u001b[0m\u001b[0m\n\u001b[1;32m    288\u001b[0m             dataset, validation_data = data_utils.split_dataset(\n\u001b[0;32m--> 289\u001b[0;31m                 \u001b[0mdataset\u001b[0m\u001b[0;34m,\u001b[0m \u001b[0mvalidation_split\u001b[0m\u001b[0;34m\u001b[0m\u001b[0;34m\u001b[0m\u001b[0m\n\u001b[0m\u001b[1;32m    290\u001b[0m             )\n\u001b[1;32m    291\u001b[0m \u001b[0;34m\u001b[0m\u001b[0m\n",
            "\u001b[0;32m/usr/local/lib/python3.7/dist-packages/autokeras/utils/data_utils.py\u001b[0m in \u001b[0;36msplit_dataset\u001b[0;34m(dataset, validation_split)\u001b[0m\n\u001b[1;32m     45\u001b[0m     \u001b[0;32mif\u001b[0m \u001b[0mnum_instances\u001b[0m \u001b[0;34m<\u001b[0m \u001b[0;36m2\u001b[0m\u001b[0;34m:\u001b[0m\u001b[0;34m\u001b[0m\u001b[0;34m\u001b[0m\u001b[0m\n\u001b[1;32m     46\u001b[0m         \u001b[0;31m#raise ValueError(\u001b[0m\u001b[0;34m\u001b[0m\u001b[0;34m\u001b[0m\u001b[0;34m\u001b[0m\u001b[0m\n\u001b[0;32m---> 47\u001b[0;31m           \u001b[0mprint\u001b[0m\u001b[0;34m(\u001b[0m\u001b[0mnum_instances\u001b[0m\u001b[0;34m)\u001b[0m\u001b[0;34m\u001b[0m\u001b[0;34m\u001b[0m\u001b[0m\n\u001b[0m\u001b[1;32m     48\u001b[0m             \u001b[0;31m#\"The dataset should at least contain 2 batches to be split.\"\u001b[0m\u001b[0;34m\u001b[0m\u001b[0;34m\u001b[0m\u001b[0;34m\u001b[0m\u001b[0m\n\u001b[1;32m     49\u001b[0m         \u001b[0;31m#)\u001b[0m\u001b[0;34m\u001b[0m\u001b[0;34m\u001b[0m\u001b[0;34m\u001b[0m\u001b[0m\n",
            "\u001b[0;31mValueError\u001b[0m: The dataset should at least contain 2 batches to be split."
          ]
        }
      ]
    },
    {
      "cell_type": "markdown",
      "metadata": {
        "id": "3vEN_ocwfzvs"
      },
      "source": [
        "#Evalutation and Best Model"
      ]
    },
    {
      "cell_type": "code",
      "metadata": {
        "id": "iTvgT4jjbFz_"
      },
      "source": [
        "clf.evaluate(X_val, y_val)\n",
        "\n",
        "model = clf.export_model()\n",
        "model.summary()\n",
        "pred_test = model.predict(X_test)"
      ],
      "execution_count": null,
      "outputs": []
    },
    {
      "cell_type": "markdown",
      "metadata": {
        "id": "_DQH60vkf487"
      },
      "source": [
        "#CSV file of predicted survivors"
      ]
    },
    {
      "cell_type": "code",
      "metadata": {
        "id": "l7UzGpTIbTqx"
      },
      "source": [
        "sub = pd.read_csv(Sub_P)\n",
        "sub[TARGET]=(pred_test > 0.5).astype(int)\n",
        "sub.to_csv(Sub_Path,index=False)\n",
        "sub.head()"
      ],
      "execution_count": null,
      "outputs": []
    }
  ]
}